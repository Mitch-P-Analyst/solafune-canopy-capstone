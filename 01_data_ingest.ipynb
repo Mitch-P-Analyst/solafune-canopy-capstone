{
 "cells": [
  {
   "cell_type": "markdown",
   "id": "6c0d8e46",
   "metadata": {},
   "source": [
    "# 01_data_ingest.ipynb"
   ]
  },
  {
   "cell_type": "code",
   "execution_count": 2,
   "id": "5fb4b036",
   "metadata": {},
   "outputs": [],
   "source": [
    "# Initialize Earth Engine\n",
    "\n",
    "import ee\n",
    "ee.Authenticate()\n",
    "ee.Initialize()\n",
    "\n",
    "# Import Solafune Tools\n",
    "import solafune_tools\n",
    "solafune_tools.set_data_directory(\"data/\")"
   ]
  },
  {
   "cell_type": "code",
   "execution_count": 3,
   "id": "1954d8ae",
   "metadata": {},
   "outputs": [
    {
     "ename": "AttributeError",
     "evalue": "module 'solafune_tools' has no attribute 'load_stac_catalog'",
     "output_type": "error",
     "traceback": [
      "\u001b[0;31m---------------------------------------------------------------------------\u001b[0m",
      "\u001b[0;31mAttributeError\u001b[0m                            Traceback (most recent call last)",
      "Cell \u001b[0;32mIn[3], line 1\u001b[0m\n\u001b[0;32m----> 1\u001b[0m catalog \u001b[38;5;241m=\u001b[39m \u001b[43msolafune_tools\u001b[49m\u001b[38;5;241;43m.\u001b[39;49m\u001b[43mload_stac_catalog\u001b[49m(\u001b[38;5;124m\"\u001b[39m\u001b[38;5;124msentinel-2\u001b[39m\u001b[38;5;124m\"\u001b[39m)\n",
      "\u001b[0;31mAttributeError\u001b[0m: module 'solafune_tools' has no attribute 'load_stac_catalog'"
     ]
    }
   ],
   "source": [
    "catalog = solafune_tools.load_stac_catalog(\"sentinel-2\")"
   ]
  },
  {
   "cell_type": "code",
   "execution_count": 5,
   "id": "0e976ae1",
   "metadata": {},
   "outputs": [],
   "source": [
    "import rasterio\n",
    "import matplotlib.pyplot as plt\n",
    "import numpy as np\n"
   ]
  },
  {
   "cell_type": "code",
   "execution_count": 21,
   "id": "26f0416f",
   "metadata": {},
   "outputs": [
    {
     "name": "stderr",
     "output_type": "stream",
     "text": [
      "/opt/anaconda3/envs/MLenv3.10/lib/python3.10/site-packages/rasterio/__init__.py:356: NotGeoreferencedWarning: Dataset has no geotransform, gcps, or rpcs. The identity matrix will be returned.\n",
      "  dataset = DatasetReader(path, driver=driver, sharing=sharing, **kwargs)\n"
     ]
    }
   ],
   "source": [
    "# Load image\n",
    "with rasterio.open('data/train_images/10cm_train_1.tif') as src:\n",
    "    image = src.read([1, 2, 3])  # RGB bands\n",
    "        # RGB Bands begin at index 1\n",
    "    image = np.transpose(image, (1, 2, 0)) \n",
    "        # Numpy Array values begin at index 0\n",
    "        # Rearrange rasterio.read() output to match visualisation plotting requirements"
   ]
  },
  {
   "cell_type": "code",
   "execution_count": 20,
   "id": "7ca7a7ab",
   "metadata": {},
   "outputs": [
    {
     "data": {
      "text/plain": [
       "{'driver': 'GTiff',\n",
       " 'dtype': 'uint8',\n",
       " 'nodata': None,\n",
       " 'width': 1024,\n",
       " 'height': 1024,\n",
       " 'count': 3,\n",
       " 'crs': None,\n",
       " 'transform': Affine(1.0, 0.0, 0.0,\n",
       "        0.0, 1.0, 0.0)}"
      ]
     },
     "execution_count": 20,
     "metadata": {},
     "output_type": "execute_result"
    }
   ],
   "source": [
    "# print(src.count)         # Number of bands\n",
    "# print(src.meta)          # Metadata dictionary\n",
    "# print(src.crs)           # Coordinate Reference System\n",
    "# print(src.width, src.height)  # Dimensions\n",
    "\n",
    "src.meta"
   ]
  },
  {
   "cell_type": "code",
   "execution_count": 12,
   "id": "1e6e5943",
   "metadata": {},
   "outputs": [
    {
     "data": {
      "text/plain": [
       "array([[[ 77, 113,  65],\n",
       "        [ 77, 114,  63],\n",
       "        [ 84, 117,  72],\n",
       "        ...,\n",
       "        [109, 128, 100],\n",
       "        [108, 121,  95],\n",
       "        [109, 119,  92]],\n",
       "\n",
       "       [[ 75, 121,  72],\n",
       "        [ 71, 117,  71],\n",
       "        [ 94, 136,  96],\n",
       "        ...,\n",
       "        [111, 126, 103],\n",
       "        [110, 125,  96],\n",
       "        [107, 121,  86]],\n",
       "\n",
       "       [[ 79, 126,  82],\n",
       "        [ 93, 139, 103],\n",
       "        [106, 152, 115],\n",
       "        ...,\n",
       "        [108, 122, 105],\n",
       "        [110, 125,  96],\n",
       "        [109, 125,  89]],\n",
       "\n",
       "       ...,\n",
       "\n",
       "       [[146, 152, 152],\n",
       "        [135, 147, 145],\n",
       "        [136, 152, 149],\n",
       "        ...,\n",
       "        [154, 151, 106],\n",
       "        [148, 151, 106],\n",
       "        [137, 149, 103]],\n",
       "\n",
       "       [[153, 154, 158],\n",
       "        [142, 151, 150],\n",
       "        [134, 149, 146],\n",
       "        ...,\n",
       "        [140, 151, 109],\n",
       "        [150, 157, 116],\n",
       "        [145, 152, 110]],\n",
       "\n",
       "       [[144, 149, 152],\n",
       "        [145, 150, 153],\n",
       "        [136, 146, 145],\n",
       "        ...,\n",
       "        [124, 147, 101],\n",
       "        [137, 148, 106],\n",
       "        [146, 147, 107]]], dtype=uint8)"
      ]
     },
     "execution_count": 12,
     "metadata": {},
     "output_type": "execute_result"
    }
   ],
   "source": [
    "image"
   ]
  },
  {
   "cell_type": "code",
   "execution_count": 14,
   "id": "7ac0a942",
   "metadata": {},
   "outputs": [
    {
     "name": "stdout",
     "output_type": "stream",
     "text": [
      "/Users/mitchellpalmer/Projects/solafune-canopy-capstone\n"
     ]
    }
   ],
   "source": [
    "import os\n",
    "print(os.getcwd())"
   ]
  },
  {
   "cell_type": "code",
   "execution_count": 15,
   "id": "2e851d7b",
   "metadata": {},
   "outputs": [
    {
     "name": "stdout",
     "output_type": "stream",
     "text": [
      "True\n"
     ]
    }
   ],
   "source": [
    "import os\n",
    "print(os.path.exists('data/train_images/10cm_train_1.tif'))  "
   ]
  },
  {
   "cell_type": "code",
   "execution_count": null,
   "id": "cee05c84",
   "metadata": {},
   "outputs": [],
   "source": []
  }
 ],
 "metadata": {
  "kernelspec": {
   "display_name": "MLenv3.10",
   "language": "python",
   "name": "python3"
  },
  "language_info": {
   "codemirror_mode": {
    "name": "ipython",
    "version": 3
   },
   "file_extension": ".py",
   "mimetype": "text/x-python",
   "name": "python",
   "nbconvert_exporter": "python",
   "pygments_lexer": "ipython3",
   "version": "3.10.14"
  }
 },
 "nbformat": 4,
 "nbformat_minor": 5
}
