{
 "cells": [
  {
   "cell_type": "markdown",
   "id": "6c0d8e46",
   "metadata": {},
   "source": [
    "# 01_data_ingest.ipynb"
   ]
  },
  {
   "cell_type": "code",
   "execution_count": null,
   "id": "5fb4b036",
   "metadata": {},
   "outputs": [],
   "source": [
    "pip install git+https://github.com/Mitch-P-Analyst/solafune-tools.git\n"
   ]
  },
  {
   "cell_type": "markdown",
   "id": "df7eadd8",
   "metadata": {},
   "source": [
    "`"
   ]
  }
 ],
 "metadata": {
  "language_info": {
   "name": "python"
  }
 },
 "nbformat": 4,
 "nbformat_minor": 5
}
